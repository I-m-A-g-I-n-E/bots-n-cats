{
 "cells": [
  {
   "cell_type": "markdown",
   "metadata": {},
   "source": [
    "# 🎵 Bots-n-Cats Monitoring Dashboard\n",
    "\n",
    "Real-time monitoring for your GitHub → Music system"
   ]
  },
  {
   "cell_type": "code",
   "execution_count": 1,
   "metadata": {},
   "outputs": [],
   "source": [
    "# Setup and imports\n",
    "import asyncio\n",
    "import subprocess\n",
    "import json\n",
    "import requests\n",
    "from datetime import datetime\n",
    "from IPython.display import display, HTML, clear_output\n",
    "import time"
   ]
  },
  {
   "cell_type": "markdown",
   "metadata": {},
   "source": [
    "## 📊 System Status Overview"
   ]
  },
  {
   "cell_type": "code",
   "execution_count": 2,
   "metadata": {},
   "outputs": [
    {
     "data": {
      "text/html": [
       "\n",
       "<div style=\"font-family: monospace; background: #1e1e1e; color: #d4d4d4; padding: 20px; border-radius: 8px;\">\n",
       "    <h3 style=\"color: #4ec9b0;\">System Status - 02:58:10</h3>\n",
       "    <table style=\"width: 100%; color: #d4d4d4;\">\n",
       "        <tr><td><b>Webhook Server:</b></td><td>🟢 Running</td></tr>\n",
       "        <tr><td><b>Ngrok Tunnel:</b></td><td>🟢 Running</td></tr>\n",
       "        <tr><td><b>Public URL:</b></td><td>https://ed7a2dd6a687.ngrok.app</td></tr>\n",
       "        <tr><td><b>Streaming Server:</b></td><td>🟢 Running</td></tr>\n",
       "    </table>\n",
       "</div>\n"
      ],
      "text/plain": [
       "<IPython.core.display.HTML object>"
      ]
     },
     "metadata": {},
     "output_type": "display_data"
    }
   ],
   "source": [
    "def get_system_status():\n",
    "    \"\"\"Get current status of all services\"\"\"\n",
    "    status = {}\n",
    "    \n",
    "    # Check webhook server\n",
    "    try:\n",
    "        r = requests.get('http://localhost:3000/health', timeout=2)\n",
    "        status['webhook_server'] = '🟢 Running' if r.status_code == 200 else '🔴 Error'\n",
    "    except:\n",
    "        status['webhook_server'] = '🔴 Offline'\n",
    "    \n",
    "    # Check ngrok\n",
    "    try:\n",
    "        r = requests.get('http://localhost:4040/api/tunnels', timeout=2)\n",
    "        data = r.json()\n",
    "        if data.get('tunnels'):\n",
    "            tunnel = data['tunnels'][0]\n",
    "            status['ngrok'] = f\"🟢 Running\"\n",
    "            status['ngrok_url'] = tunnel['public_url']\n",
    "        else:\n",
    "            status['ngrok'] = '🔴 No tunnels'\n",
    "    except:\n",
    "        status['ngrok'] = '🔴 Offline'\n",
    "    \n",
    "    # Check streaming server\n",
    "    try:\n",
    "        r = requests.get('http://localhost:3001/health', timeout=2)\n",
    "        status['streaming_server'] = '🟢 Running' if r.status_code == 200 else '🔴 Error'\n",
    "    except:\n",
    "        status['streaming_server'] = '🔴 Offline'\n",
    "    \n",
    "    return status\n",
    "\n",
    "# Display status\n",
    "status = get_system_status()\n",
    "display(HTML(f\"\"\"\n",
    "<div style=\"font-family: monospace; background: #1e1e1e; color: #d4d4d4; padding: 20px; border-radius: 8px;\">\n",
    "    <h3 style=\"color: #4ec9b0;\">System Status - {datetime.now().strftime('%H:%M:%S')}</h3>\n",
    "    <table style=\"width: 100%; color: #d4d4d4;\">\n",
    "        <tr><td><b>Webhook Server:</b></td><td>{status.get('webhook_server', '❓ Unknown')}</td></tr>\n",
    "        <tr><td><b>Ngrok Tunnel:</b></td><td>{status.get('ngrok', '❓ Unknown')}</td></tr>\n",
    "        <tr><td><b>Public URL:</b></td><td>{status.get('ngrok_url', 'N/A')}</td></tr>\n",
    "        <tr><td><b>Streaming Server:</b></td><td>{status.get('streaming_server', '❓ Unknown')}</td></tr>\n",
    "    </table>\n",
    "</div>\n",
    "\"\"\"))"
   ]
  },
  {
   "cell_type": "markdown",
   "metadata": {},
   "source": [
    "## 📡 Live Webhook Server Logs\n",
    "\n",
    "**Run this cell and leave it running to see webhook events in real-time!**"
   ]
  },
  {
   "cell_type": "code",
   "execution_count": 6,
   "metadata": {},
   "outputs": [
    {
     "name": "stdout",
     "output_type": "stream",
     "text": [
      "📡 Monitoring webhook-server.log for 60 seconds...\n",
      "================================================================================\n",
      "\n",
      "\u001b[92m🎵 [2025-10-18T08:21:50.465Z] INFO: Webhook event received {\u001b[0m\n",
      "\"eventType\": \"ping\",\n",
      "\"action\": \"unknown\",\n",
      "\"deliveryId\": \"7e281532-abfb-11f0-9e32-5032a6a58bc9\",\n",
      "\"repository\": \"I-m-A-g-I-n-E/bots-n-cats\",\n",
      "\"sender\": \"research-developer\"\n",
      "}\n",
      "[2025-10-18T08:21:50.465Z] INFO: Unsupported event type {\n",
      "\"error\": \"Unsupported event type: ping\"\n",
      "}\n",
      "\n",
      "================================================================================\n",
      "Monitoring stopped after 60 seconds\n"
     ]
    }
   ],
   "source": [
    "async def tail_webhook_logs(duration=60):\n",
    "    \"\"\"Tail webhook server logs for specified duration (seconds)\"\"\"\n",
    "    print(f\"📡 Monitoring webhook-server.log for {duration} seconds...\")\n",
    "    print(f\"{'='*80}\\n\")\n",
    "    \n",
    "    # Start from end of file\n",
    "    proc = await asyncio.create_subprocess_exec(\n",
    "        'tail', '-f', '/tmp/webhook-server.log',\n",
    "        stdout=asyncio.subprocess.PIPE,\n",
    "        stderr=asyncio.subprocess.PIPE\n",
    "    )\n",
    "    \n",
    "    start_time = asyncio.get_event_loop().time()\n",
    "    \n",
    "    try:\n",
    "        while asyncio.get_event_loop().time() - start_time < duration:\n",
    "            try:\n",
    "                line = await asyncio.wait_for(proc.stdout.readline(), timeout=1.0)\n",
    "                if line:\n",
    "                    decoded = line.decode().strip()\n",
    "                    # Color code different log types\n",
    "                    if 'ERROR' in decoded:\n",
    "                        print(f\"\\033[91m{decoded}\\033[0m\")  # Red\n",
    "                    elif 'INFO' in decoded and 'Webhook event received' in decoded:\n",
    "                        print(f\"\\033[92m🎵 {decoded}\\033[0m\")  # Green\n",
    "                    elif 'WARN' in decoded:\n",
    "                        print(f\"\\033[93m{decoded}\\033[0m\")  # Yellow\n",
    "                    else:\n",
    "                        print(decoded)\n",
    "            except asyncio.TimeoutError:\n",
    "                continue\n",
    "    finally:\n",
    "        proc.terminate()\n",
    "        await proc.wait()\n",
    "    \n",
    "    print(f\"\\n{'='*80}\")\n",
    "    print(f\"Monitoring stopped after {duration} seconds\")\n",
    "\n",
    "# Run for 60 seconds (adjust as needed)\n",
    "await tail_webhook_logs(duration=60)"
   ]
  },
  {
   "cell_type": "markdown",
   "metadata": {},
   "source": [
    "## 🌐 Recent GitHub Webhook Deliveries"
   ]
  },
  {
   "cell_type": "code",
   "execution_count": 7,
   "metadata": {},
   "outputs": [
    {
     "name": "stdout",
     "output_type": "stream",
     "text": [
      "Error: Expecting value: line 1 column 1 (char 0)\n"
     ]
    }
   ],
   "source": [
    "def get_recent_deliveries():\n",
    "    \"\"\"Get recent webhook deliveries from GitHub\"\"\"\n",
    "    try:\n",
    "        result = subprocess.run(\n",
    "            ['gh', 'api', 'repos/I-m-A-g-I-n-E/bots-n-cats/hooks/575942860/deliveries', '--paginate'],\n",
    "            capture_output=True,\n",
    "            text=True\n",
    "        )\n",
    "        \n",
    "        if result.returncode == 0:\n",
    "            deliveries = json.loads(result.stdout)\n",
    "            \n",
    "            html = '<div style=\"font-family: monospace; background: #1e1e1e; color: #d4d4d4; padding: 20px; border-radius: 8px;\">'\n",
    "            html += f'<h3 style=\"color: #4ec9b0;\">Recent Webhook Deliveries ({len(deliveries[:10])})</h3>'\n",
    "            html += '<table style=\"width: 100%; color: #d4d4d4; border-collapse: collapse;\">'\n",
    "            html += '<tr style=\"border-bottom: 1px solid #444;\"><th>Time</th><th>Event</th><th>Status</th><th>Duration</th></tr>'\n",
    "            \n",
    "            for delivery in deliveries[:10]:\n",
    "                delivered_at = delivery.get('delivered_at', 'N/A')\n",
    "                event = delivery.get('event', 'unknown')\n",
    "                status = delivery.get('status', 'pending')\n",
    "                duration = delivery.get('duration', 0)\n",
    "                \n",
    "                status_icon = '🟢' if status == 'OK' else '🔴' if status == 'error' else '🟡'\n",
    "                \n",
    "                html += f'<tr style=\"border-bottom: 1px solid #333;\">'\n",
    "                html += f'<td>{delivered_at[:19] if delivered_at != \"N/A\" else \"N/A\"}</td>'\n",
    "                html += f'<td><b>{event}</b></td>'\n",
    "                html += f'<td>{status_icon} {status}</td>'\n",
    "                html += f'<td>{duration:.2f}s</td>'\n",
    "                html += '</tr>'\n",
    "            \n",
    "            html += '</table></div>'\n",
    "            display(HTML(html))\n",
    "        else:\n",
    "            print(f\"Error fetching deliveries: {result.stderr}\")\n",
    "    except Exception as e:\n",
    "        print(f\"Error: {e}\")\n",
    "\n",
    "get_recent_deliveries()"
   ]
  },
  {
   "cell_type": "markdown",
   "metadata": {},
   "source": [
    "## 🔄 Auto-Refreshing Dashboard\n",
    "\n",
    "**This cell will refresh every 5 seconds. Stop it with the ⏹ button.**"
   ]
  },
  {
   "cell_type": "code",
   "execution_count": 4,
   "metadata": {},
   "outputs": [
    {
     "data": {
      "text/html": [
       "\n",
       "        <div style=\"font-family: monospace; background: #1e1e1e; color: #d4d4d4; padding: 20px; border-radius: 8px;\">\n",
       "            <h2 style=\"color: #4ec9b0;\">🎵 Bots-n-Cats Live Dashboard</h2>\n",
       "            <p style=\"color: #888;\">Updated: 2025-10-18 03:00:25</p>\n",
       "\n",
       "            <h3 style=\"color: #569cd6;\">System Status</h3>\n",
       "            <table style=\"width: 100%; color: #d4d4d4;\">\n",
       "                <tr><td><b>Webhook Server:</b></td><td>🟢 Running</td></tr>\n",
       "                <tr><td><b>Ngrok Tunnel:</b></td><td>🟢 Running</td></tr>\n",
       "                <tr><td><b>Public URL:</b></td><td style=\"color: #4ec9b0;\">https://ed7a2dd6a687.ngrok.app</td></tr>\n",
       "                <tr><td><b>Streaming Server:</b></td><td>🟢 Running</td></tr>\n",
       "            </table>\n",
       "\n",
       "            <h3 style=\"color: #569cd6; margin-top: 20px;\">Recent Activity</h3>\n",
       "            <div style=\"background: #252526; padding: 10px; border-radius: 4px; font-size: 12px; max-height: 300px; overflow-y: auto;\">\n",
       "        <div style=\"color: #888;\">  \"eventType\": \"ping\",</div><div style=\"color: #888;\">  \"action\": \"unknown\",</div><div style=\"color: #888;\">  \"deliveryId\": \"a833ac24-ac00-11f0-9cca-f43a4857e9a2\",</div><div style=\"color: #888;\">  \"repository\": \"I-m-A-g-I-n-E/bots-n-cats\",</div><div style=\"color: #888;\">  \"sender\": \"research-developer\"</div><div style=\"color: #888;\">}</div><div style=\"color: #d4d4d4;\">[2025-10-18T08:58:48.542Z] INFO: Unsupported event type {</div><div style=\"color: #888;\">  \"error\": \"Unsupported event type: ping\"</div><div style=\"color: #888;\">}</div>\n",
       "            </div>\n",
       "        </div>\n",
       "        "
      ],
      "text/plain": [
       "<IPython.core.display.HTML object>"
      ]
     },
     "metadata": {},
     "output_type": "display_data"
    },
    {
     "ename": "CancelledError",
     "evalue": "",
     "output_type": "error",
     "traceback": [
      "\u001b[31m---------------------------------------------------------------------------\u001b[39m",
      "\u001b[31mCancelledError\u001b[39m                            Traceback (most recent call last)",
      "\u001b[36mCell\u001b[39m\u001b[36m \u001b[39m\u001b[32mIn[4]\u001b[39m\u001b[32m, line 63\u001b[39m\n\u001b[32m     60\u001b[39m     \u001b[38;5;28mprint\u001b[39m(\u001b[33m\"\u001b[39m\u001b[38;5;130;01m\\n\u001b[39;00m\u001b[33mDashboard stopped\u001b[39m\u001b[33m\"\u001b[39m)\n\u001b[32m     62\u001b[39m \u001b[38;5;66;03m# Run for 5 minutes (300 seconds)\u001b[39;00m\n\u001b[32m---> \u001b[39m\u001b[32m63\u001b[39m \u001b[38;5;28;01mawait\u001b[39;00m live_dashboard(refresh_interval=\u001b[32m5\u001b[39m, duration=\u001b[32m300\u001b[39m)\n",
      "\u001b[36mCell\u001b[39m\u001b[36m \u001b[39m\u001b[32mIn[4]\u001b[39m\u001b[32m, line 58\u001b[39m, in \u001b[36mlive_dashboard\u001b[39m\u001b[34m(refresh_interval, duration)\u001b[39m\n\u001b[32m     51\u001b[39m     html += \u001b[33m\"\"\"\u001b[39m\n\u001b[32m     52\u001b[39m \u001b[33m        </div>\u001b[39m\n\u001b[32m     53\u001b[39m \u001b[33m    </div>\u001b[39m\n\u001b[32m     54\u001b[39m \u001b[33m    \u001b[39m\u001b[33m\"\"\"\u001b[39m\n\u001b[32m     56\u001b[39m     display(HTML(html))\n\u001b[32m---> \u001b[39m\u001b[32m58\u001b[39m     \u001b[38;5;28;01mawait\u001b[39;00m asyncio.sleep(refresh_interval)\n\u001b[32m     60\u001b[39m \u001b[38;5;28mprint\u001b[39m(\u001b[33m\"\u001b[39m\u001b[38;5;130;01m\\n\u001b[39;00m\u001b[33mDashboard stopped\u001b[39m\u001b[33m\"\u001b[39m)\n",
      "\u001b[36mFile \u001b[39m\u001b[32m~/miniconda3/envs/dev/lib/python3.11/asyncio/tasks.py:649\u001b[39m, in \u001b[36msleep\u001b[39m\u001b[34m(delay, result)\u001b[39m\n\u001b[32m    645\u001b[39m h = loop.call_later(delay,\n\u001b[32m    646\u001b[39m                     futures._set_result_unless_cancelled,\n\u001b[32m    647\u001b[39m                     future, result)\n\u001b[32m    648\u001b[39m \u001b[38;5;28;01mtry\u001b[39;00m:\n\u001b[32m--> \u001b[39m\u001b[32m649\u001b[39m     \u001b[38;5;28;01mreturn\u001b[39;00m \u001b[38;5;28;01mawait\u001b[39;00m future\n\u001b[32m    650\u001b[39m \u001b[38;5;28;01mfinally\u001b[39;00m:\n\u001b[32m    651\u001b[39m     h.cancel()\n",
      "\u001b[31mCancelledError\u001b[39m: "
     ]
    }
   ],
   "source": [
    "async def live_dashboard(refresh_interval=5, duration=300):\n",
    "    \"\"\"Live dashboard that refreshes every N seconds\"\"\"\n",
    "    start_time = time.time()\n",
    "    \n",
    "    while time.time() - start_time < duration:\n",
    "        clear_output(wait=True)\n",
    "        \n",
    "        # Get status\n",
    "        status = get_system_status()\n",
    "        \n",
    "        # Get recent webhook events from log\n",
    "        try:\n",
    "            result = subprocess.run(\n",
    "                ['tail', '-20', '/tmp/webhook-server.log'],\n",
    "                capture_output=True,\n",
    "                text=True\n",
    "            )\n",
    "            recent_logs = result.stdout.split('\\n')[-10:]\n",
    "        except:\n",
    "            recent_logs = ['No logs available']\n",
    "        \n",
    "        # Build HTML dashboard\n",
    "        html = f\"\"\"\n",
    "        <div style=\"font-family: monospace; background: #1e1e1e; color: #d4d4d4; padding: 20px; border-radius: 8px;\">\n",
    "            <h2 style=\"color: #4ec9b0;\">🎵 Bots-n-Cats Live Dashboard</h2>\n",
    "            <p style=\"color: #888;\">Updated: {datetime.now().strftime('%Y-%m-%d %H:%M:%S')}</p>\n",
    "            \n",
    "            <h3 style=\"color: #569cd6;\">System Status</h3>\n",
    "            <table style=\"width: 100%; color: #d4d4d4;\">\n",
    "                <tr><td><b>Webhook Server:</b></td><td>{status.get('webhook_server', '❓ Unknown')}</td></tr>\n",
    "                <tr><td><b>Ngrok Tunnel:</b></td><td>{status.get('ngrok', '❓ Unknown')}</td></tr>\n",
    "                <tr><td><b>Public URL:</b></td><td style=\"color: #4ec9b0;\">{status.get('ngrok_url', 'N/A')}</td></tr>\n",
    "                <tr><td><b>Streaming Server:</b></td><td>{status.get('streaming_server', '❓ Unknown')}</td></tr>\n",
    "            </table>\n",
    "            \n",
    "            <h3 style=\"color: #569cd6; margin-top: 20px;\">Recent Activity</h3>\n",
    "            <div style=\"background: #252526; padding: 10px; border-radius: 4px; font-size: 12px; max-height: 300px; overflow-y: auto;\">\n",
    "        \"\"\"\n",
    "        \n",
    "        for log in recent_logs:\n",
    "            if log.strip():\n",
    "                if 'ERROR' in log:\n",
    "                    html += f'<div style=\"color: #f48771;\">🔴 {log}</div>'\n",
    "                elif 'Webhook event received' in log:\n",
    "                    html += f'<div style=\"color: #4ec9b0;\">🎵 {log}</div>'\n",
    "                elif 'INFO' in log:\n",
    "                    html += f'<div style=\"color: #d4d4d4;\">{log}</div>'\n",
    "                else:\n",
    "                    html += f'<div style=\"color: #888;\">{log}</div>'\n",
    "        \n",
    "        html += \"\"\"\n",
    "            </div>\n",
    "        </div>\n",
    "        \"\"\"\n",
    "        \n",
    "        display(HTML(html))\n",
    "        \n",
    "        await asyncio.sleep(refresh_interval)\n",
    "    \n",
    "    print(\"\\nDashboard stopped\")\n",
    "\n",
    "# Run for 5 minutes (300 seconds)\n",
    "await live_dashboard(refresh_interval=5, duration=300)"
   ]
  },
  {
   "cell_type": "markdown",
   "metadata": {},
   "source": [
    "## 🧪 Test Webhook\n",
    "\n",
    "Send a test ping to your webhook:"
   ]
  },
  {
   "cell_type": "code",
   "execution_count": null,
   "metadata": {},
   "outputs": [],
   "source": [
    "def send_test_ping():\n",
    "    \"\"\"Send a test ping to the webhook\"\"\"\n",
    "    result = subprocess.run(\n",
    "        ['gh', 'api', 'repos/I-m-A-g-I-n-E/bots-n-cats/hooks/575942860/pings', '-X', 'POST'],\n",
    "        capture_output=True,\n",
    "        text=True\n",
    "    )\n",
    "    \n",
    "    if result.returncode == 0:\n",
    "        print(\"✅ Test ping sent successfully!\")\n",
    "        print(\"Check the 'Live Webhook Server Logs' cell above to see it arrive.\")\n",
    "    else:\n",
    "        print(f\"❌ Error: {result.stderr}\")\n",
    "\n",
    "send_test_ping()"
   ]
  },
  {
   "cell_type": "markdown",
   "metadata": {},
   "source": [
    "## 📊 Webhook Statistics"
   ]
  },
  {
   "cell_type": "code",
   "execution_count": null,
   "metadata": {},
   "outputs": [],
   "source": [
    "def get_webhook_stats():\n",
    "    \"\"\"Get statistics from webhook deliveries\"\"\"\n",
    "    try:\n",
    "        result = subprocess.run(\n",
    "            ['gh', 'api', 'repos/I-m-A-g-I-n-E/bots-n-cats/hooks/575942860/deliveries'],\n",
    "            capture_output=True,\n",
    "            text=True\n",
    "        )\n",
    "        \n",
    "        if result.returncode == 0:\n",
    "            deliveries = json.loads(result.stdout)\n",
    "            \n",
    "            # Count by event type\n",
    "            event_counts = {}\n",
    "            for d in deliveries:\n",
    "                event = d.get('event', 'unknown')\n",
    "                event_counts[event] = event_counts.get(event, 0) + 1\n",
    "            \n",
    "            # Calculate success rate\n",
    "            total = len(deliveries)\n",
    "            successful = sum(1 for d in deliveries if d.get('status') == 'OK')\n",
    "            success_rate = (successful / total * 100) if total > 0 else 0\n",
    "            \n",
    "            html = '<div style=\"font-family: monospace; background: #1e1e1e; color: #d4d4d4; padding: 20px; border-radius: 8px;\">'\n",
    "            html += '<h3 style=\"color: #4ec9b0;\">Webhook Statistics</h3>'\n",
    "            html += f'<p><b>Total Deliveries:</b> {total}</p>'\n",
    "            html += f'<p><b>Success Rate:</b> {success_rate:.1f}% ({successful}/{total})</p>'\n",
    "            html += '<h4 style=\"color: #569cd6;\">Events by Type:</h4>'\n",
    "            html += '<ul>'\n",
    "            for event, count in sorted(event_counts.items(), key=lambda x: x[1], reverse=True):\n",
    "                html += f'<li><b>{event}:</b> {count}</li>'\n",
    "            html += '</ul></div>'\n",
    "            \n",
    "            display(HTML(html))\n",
    "        else:\n",
    "            print(f\"Error: {result.stderr}\")\n",
    "    except Exception as e:\n",
    "        print(f\"Error: {e}\")\n",
    "\n",
    "get_webhook_stats()"
   ]
  },
  {
   "cell_type": "markdown",
   "metadata": {},
   "source": [
    "## 🛠️ Quick Commands"
   ]
  },
  {
   "cell_type": "code",
   "execution_count": null,
   "metadata": {},
   "outputs": [],
   "source": [
    "# View last 50 lines of webhook logs\n",
    "!tail -50 /tmp/webhook-server.log"
   ]
  },
  {
   "cell_type": "code",
   "execution_count": null,
   "metadata": {},
   "outputs": [],
   "source": [
    "# Check ngrok tunnels\n",
    "!curl -s http://localhost:4040/api/tunnels | python3 -m json.tool"
   ]
  },
  {
   "cell_type": "code",
   "execution_count": null,
   "metadata": {},
   "outputs": [],
   "source": [
    "# Check webhook server health\n",
    "!curl -s http://localhost:3000/health | python3 -m json.tool"
   ]
  }
 ],
 "metadata": {
  "kernelspec": {
   "display_name": "Python 3 (ipykernel)",
   "language": "python",
   "name": "python3"
  },
  "language_info": {
   "codemirror_mode": {
    "name": "ipython",
    "version": 3
   },
   "file_extension": ".py",
   "mimetype": "text/x-python",
   "name": "python",
   "nbconvert_exporter": "python",
   "pygments_lexer": "ipython3",
   "version": "3.11.13"
  }
 },
 "nbformat": 4,
 "nbformat_minor": 4
}
